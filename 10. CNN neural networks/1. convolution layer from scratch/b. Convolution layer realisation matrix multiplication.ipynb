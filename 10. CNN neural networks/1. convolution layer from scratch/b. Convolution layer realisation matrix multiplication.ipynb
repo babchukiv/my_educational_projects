{
 "cells": [
  {
   "cell_type": "code",
   "execution_count": 1,
   "metadata": {},
   "outputs": [],
   "source": [
    "import torch\n",
    "import numpy as np\n",
    "from abc import ABC, abstractmethod"
   ]
  },
  {
   "cell_type": "code",
   "execution_count": 2,
   "metadata": {},
   "outputs": [],
   "source": [
    "def calc_out_shape(input_matrix_shape, out_channels, kernel_size, stride, padding):\n",
    "    batch_size, channels_count, input_height, input_width = input_matrix_shape\n",
    "    output_height = (input_height + 2 * padding - (kernel_size - 1) - 1) // stride + 1\n",
    "    output_width = (input_width + 2 * padding - (kernel_size - 1) - 1) // stride + 1\n",
    "\n",
    "    return batch_size, out_channels, output_height, output_width"
   ]
  },
  {
   "cell_type": "code",
   "execution_count": 3,
   "metadata": {},
   "outputs": [],
   "source": [
    "class ABCConv2d(ABC):\n",
    "    def __init__(self, in_channels, out_channels, kernel_size, stride):\n",
    "        self.in_channels = in_channels\n",
    "        self.out_channels = out_channels\n",
    "        self.kernel_size = kernel_size\n",
    "        self.stride = stride\n",
    "\n",
    "    def set_kernel(self, kernel):\n",
    "        self.kernel = kernel\n",
    "\n",
    "    @abstractmethod\n",
    "    def __call__(self, input_tensor):\n",
    "        pass"
   ]
  },
  {
   "cell_type": "code",
   "execution_count": 4,
   "metadata": {},
   "outputs": [],
   "source": [
    "class Conv2d(ABCConv2d):\n",
    "    def __init__(self, in_channels, out_channels, kernel_size, stride):\n",
    "        self.conv2d = torch.nn.Conv2d(in_channels, out_channels, kernel_size,\n",
    "                                      stride, padding=0, bias=False)\n",
    "\n",
    "    def set_kernel(self, kernel):\n",
    "        self.conv2d.weight.data = kernel\n",
    "\n",
    "    def __call__(self, input_tensor):\n",
    "        return self.conv2d(input_tensor)"
   ]
  },
  {
   "cell_type": "code",
   "execution_count": 5,
   "metadata": {},
   "outputs": [],
   "source": [
    "def create_and_call_conv2d_layer(conv2d_layer_class, stride, kernel, input_matrix):\n",
    "    out_channels = kernel.shape[0]\n",
    "    in_channels = kernel.shape[1]\n",
    "    kernel_size = kernel.shape[2]\n",
    "\n",
    "    layer = conv2d_layer_class(in_channels, out_channels, kernel_size, stride)\n",
    "    layer.set_kernel(kernel)\n",
    "\n",
    "    return layer(input_matrix)"
   ]
  },
  {
   "cell_type": "code",
   "execution_count": 6,
   "metadata": {},
   "outputs": [],
   "source": [
    "def test_conv2d_layer(conv2d_layer_class, batch_size=2,\n",
    "                      input_height=4, input_width=4, stride=2):\n",
    "    kernel = torch.tensor(\n",
    "                      [[[[0., 1, 0],\n",
    "                         [1,  2, 1],\n",
    "                         [0,  1, 0]],\n",
    "\n",
    "                        [[1, 2, 1],\n",
    "                         [0, 3, 3],\n",
    "                         [0, 1, 10]],\n",
    "\n",
    "                        [[10, 11, 12],\n",
    "                         [13, 14, 15],\n",
    "                         [16, 17, 18]]]])\n",
    "\n",
    "    in_channels = kernel.shape[1]\n",
    "\n",
    "    input_tensor = torch.arange(0, batch_size * in_channels *\n",
    "                                input_height * input_width,\n",
    "                                out=torch.FloatTensor()) \\\n",
    "        .reshape(batch_size, in_channels, input_height, input_width)\n",
    "\n",
    "    custom_conv2d_out = create_and_call_conv2d_layer(\n",
    "        conv2d_layer_class, stride, kernel, input_tensor)\n",
    "    conv2d_out = create_and_call_conv2d_layer(\n",
    "        Conv2d, stride, kernel, input_tensor)\n",
    "\n",
    "    return torch.allclose(custom_conv2d_out, conv2d_out)"
   ]
  },
  {
   "cell_type": "code",
   "execution_count": 7,
   "metadata": {},
   "outputs": [
    {
     "name": "stdout",
     "output_type": "stream",
     "text": [
      "True\n"
     ]
    }
   ],
   "source": [
    "class Conv2dMatrix(ABCConv2d):\n",
    "    # Функция преобразование кернела в матрицу нужного вида.\n",
    "    def _unsqueeze_kernel(self, torch_input, output_height, output_width):\n",
    "\n",
    "        unsqueezed_channels = torch.empty(torch_input.shape[0], self.kernel.shape[3], int((1 + int((torch_input.shape[3] - self.kernel.shape[3])/self.stride))**2), torch_input.shape[3]**2, dtype=torch.float32)\n",
    "        \n",
    "        for batch in range(torch_input.shape[0]):\n",
    "            for ifilter in range(self.kernel.shape[0]):\n",
    "                for channel in range(self.kernel.shape[1]):\n",
    "\n",
    "                    x0_v = torch.zeros((self.kernel.shape[2], torch_input.shape[3]-self.kernel.shape[3]))\n",
    "            \n",
    "                    stuff = torch.cat((self.kernel[ifilter][channel], x0_v), 1).\\\n",
    "                                                        view(-1)[:-(torch_input.shape[3]-self.kernel.shape[3])]\n",
    "            \n",
    "                    first_zeros_list = []\n",
    "\n",
    "                    for s in range(0, (torch_input.shape[3] - self.kernel.shape[3] + self.stride)*torch_input.shape[3], torch_input.shape[3]):\n",
    "                        x = [i for i in range(s, s + torch_input.shape[3] - self.kernel.shape[3] + self.stride)]\n",
    "                        first_zeros_list.append(x)\n",
    "\n",
    "                    first_zeros = torch.tensor(first_zeros_list).view(-1)\n",
    "\n",
    "                    for line in range(int((1 + int((torch_input.shape[3] - self.kernel.shape[3])/self.stride)))**2):\n",
    "                        list1 = torch.zeros(first_zeros[line], dtype=torch.float32)\n",
    "                        list2 = torch.zeros(torch_input.shape[3]**2-len(stuff)-len(list1), dtype=torch.float32)\n",
    "            \n",
    "                        unsqueezed_channels[batch][channel][line] = torch.cat((list1, stuff, list2), 0)\n",
    "\n",
    "        kernel_unsqueezed = unsqueezed_channels[batch][0]\n",
    "        for l in range(1, unsqueezed_channels.shape[1]):\n",
    "            kernel_unsqueezed = torch.cat((kernel_unsqueezed, unsqueezed_channels[batch][l]), 1)\n",
    "\n",
    "        return kernel_unsqueezed\n",
    "\n",
    "    def __call__(self, torch_input):\n",
    "        batch_size, out_channels, output_height, output_width\\\n",
    "            = calc_out_shape(\n",
    "                input_matrix_shape=torch_input.shape,\n",
    "                out_channels=self.kernel.shape[0],\n",
    "                kernel_size=self.kernel.shape[2],\n",
    "                stride=self.stride,\n",
    "                padding=0)\n",
    "\n",
    "        kernel_unsqueezed = self._unsqueeze_kernel(torch_input, output_height, output_width)\n",
    "        result = kernel_unsqueezed @ torch_input.view((batch_size, -1)).permute(1, 0)\n",
    "        return result.permute(1, 0).view((batch_size, self.out_channels,\n",
    "                                          output_height, output_width))\n",
    "\n",
    "# Проверка происходит автоматически вызовом следующего кода\n",
    "# (раскомментируйте для самостоятельной проверки,\n",
    "#  в коде для сдачи задания должно быть закомментировано):\n",
    "print(test_conv2d_layer(Conv2dMatrix))"
   ]
  },
  {
   "cell_type": "code",
   "execution_count": null,
   "metadata": {},
   "outputs": [],
   "source": []
  }
 ],
 "metadata": {
  "kernelspec": {
   "display_name": "Python 3",
   "language": "python",
   "name": "python3"
  },
  "language_info": {
   "codemirror_mode": {
    "name": "ipython",
    "version": 3
   },
   "file_extension": ".py",
   "mimetype": "text/x-python",
   "name": "python",
   "nbconvert_exporter": "python",
   "pygments_lexer": "ipython3",
   "version": "3.7.3"
  }
 },
 "nbformat": 4,
 "nbformat_minor": 4
}
