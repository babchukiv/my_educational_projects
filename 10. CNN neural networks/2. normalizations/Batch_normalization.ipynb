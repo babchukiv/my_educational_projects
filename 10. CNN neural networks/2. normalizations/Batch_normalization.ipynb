{
 "cells": [
  {
   "cell_type": "code",
   "execution_count": 1,
   "metadata": {},
   "outputs": [],
   "source": [
    "import torch\n",
    "import torch.nn as nn"
   ]
  },
  {
   "cell_type": "code",
   "execution_count": 2,
   "metadata": {},
   "outputs": [],
   "source": [
    "input_size = 3\n",
    "batch_size = 5\n",
    "eps = 1e-1"
   ]
  },
  {
   "cell_type": "code",
   "execution_count": 3,
   "metadata": {},
   "outputs": [],
   "source": [
    "class CustomBatchNorm1d:\n",
    "    def __init__(self, weight, bias, eps, momentum):\n",
    "        self.gamma = weight\n",
    "        self.beta = bias\n",
    "        self.eps = eps\n",
    "        self.momentum = momentum\n",
    "        self.exp_avg = 0\n",
    "        self.exp_var = 1\n",
    "        self.click = False\n",
    "\n",
    "    def __call__(self, input_tensor):\n",
    "        \n",
    "        if self.click is False:\n",
    "            \n",
    "            mean, var = input_tensor.mean(dim=0), input_tensor.var(dim=0, unbiased=False)\n",
    "\n",
    "            self.exp_avg = (1 - self.momentum) * mean + self.momentum * self.exp_avg\n",
    "            self.exp_var = (1 - self.momentum) * var * input_tensor.shape[0]/(input_tensor.shape[0]-1) + self.momentum * self.exp_var\n",
    "\n",
    "            return (input_tensor - mean)/torch.sqrt(var + eps)*self.gamma + self.beta\n",
    "        \n",
    "        else:\n",
    "            \n",
    "            mean, var = self.exp_avg, self.exp_var\n",
    "            \n",
    "        return (input_tensor - mean)/torch.sqrt(var + eps)*self.gamma + self.beta\n",
    "\n",
    "        \n",
    "    def eval(self):\n",
    "        self.click = True"
   ]
  },
  {
   "cell_type": "code",
   "execution_count": 4,
   "metadata": {},
   "outputs": [],
   "source": [
    "batch_norm = nn.BatchNorm1d(input_size, eps=eps)\n",
    "batch_norm.bias.data = torch.randn(input_size, dtype=torch.float)\n",
    "batch_norm.weight.data = torch.randn(input_size, dtype=torch.float)\n",
    "batch_norm.momentum = 0.5\n",
    "\n",
    "custom_batch_norm1d = CustomBatchNorm1d(batch_norm.weight.data,\n",
    "                                        batch_norm.bias.data, eps, batch_norm.momentum)"
   ]
  },
  {
   "cell_type": "code",
   "execution_count": 5,
   "metadata": {},
   "outputs": [
    {
     "name": "stdout",
     "output_type": "stream",
     "text": [
      "True\n"
     ]
    }
   ],
   "source": [
    "all_correct = True\n",
    "\n",
    "for i in range(8):\n",
    "    torch_input = torch.randn(batch_size, input_size, dtype=torch.float)\n",
    "    all_correct &= torch.allclose(batch_norm(torch_input), custom_batch_norm1d(torch_input))\n",
    "    \n",
    "batch_norm.eval()\n",
    "custom_batch_norm1d.eval()\n",
    "\n",
    "for i in range(8):\n",
    "    torch_input = torch.randn(batch_size, input_size, dtype=torch.float)\n",
    "    all_correct &= torch.allclose(batch_norm(torch_input), custom_batch_norm1d(torch_input))\n",
    "\n",
    "print(all_correct)"
   ]
  },
  {
   "cell_type": "code",
   "execution_count": null,
   "metadata": {},
   "outputs": [],
   "source": []
  }
 ],
 "metadata": {
  "kernelspec": {
   "display_name": "Python 3",
   "language": "python",
   "name": "python3"
  },
  "language_info": {
   "codemirror_mode": {
    "name": "ipython",
    "version": 3
   },
   "file_extension": ".py",
   "mimetype": "text/x-python",
   "name": "python",
   "nbconvert_exporter": "python",
   "pygments_lexer": "ipython3",
   "version": "3.7.3"
  }
 },
 "nbformat": 4,
 "nbformat_minor": 4
}
