{
 "cells": [
  {
   "cell_type": "markdown",
   "metadata": {},
   "source": [
    "# Layer Norm"
   ]
  },
  {
   "cell_type": "code",
   "execution_count": 1,
   "metadata": {},
   "outputs": [],
   "source": [
    "import torch\n",
    "import torch.nn as nn\n",
    "\n",
    "\n",
    "eps = 1e-10"
   ]
  },
  {
   "cell_type": "code",
   "execution_count": 2,
   "metadata": {},
   "outputs": [],
   "source": [
    "def custom_layer_norm(input_tensor, eps):\n",
    "    \n",
    "    initial_shape = input_tensor.shape\n",
    "    \n",
    "    if len(input_tensor.shape) >= 4:\n",
    "        input_tensor = input_tensor.reshape(input_tensor.shape[0], input_tensor.shape[1], -1)\n",
    "    elif len(input_tensor.shape) == 2:\n",
    "        input_tensor = input_tensor.unsqueeze(-1)\n",
    "\n",
    "    normed_tensor = torch.empty(input_tensor.shape)\n",
    "    \n",
    "    gamma = torch.ones(input_tensor.shape[1], input_tensor.shape[2])\n",
    "    beta = torch.zeros(input_tensor.shape[1], input_tensor.shape[2])\n",
    "\n",
    "    for layer in range(input_tensor.shape[0]):\n",
    "        current_slice = input_tensor[layer]\n",
    "        mean, var = current_slice.reshape(-1).mean(dim=0), current_slice.reshape(-1).var(dim=0, unbiased=False)\n",
    "        normed_tensor[layer] = (current_slice - mean)/torch.sqrt(var + eps) * gamma + beta\n",
    "        \n",
    "    return normed_tensor.reshape(initial_shape)"
   ]
  },
  {
   "cell_type": "code",
   "execution_count": 3,
   "metadata": {},
   "outputs": [
    {
     "name": "stdout",
     "output_type": "stream",
     "text": [
      "True\n"
     ]
    }
   ],
   "source": [
    "all_correct = True\n",
    "for dim_count in range(3, 9):\n",
    "    input_tensor = torch.randn(*list(range(3, dim_count + 2)), dtype=torch.float)\n",
    "    layer_norm = nn.LayerNorm(input_tensor.size()[1:], elementwise_affine=False, eps=eps)\n",
    "\n",
    "    norm_output = layer_norm(input_tensor)\n",
    "    custom_output = custom_layer_norm(input_tensor, eps)\n",
    "\n",
    "    all_correct &= torch.allclose(norm_output, custom_output, 1e-2)\n",
    "    all_correct &= norm_output.shape == custom_output.shape\n",
    "print(all_correct)"
   ]
  },
  {
   "cell_type": "code",
   "execution_count": null,
   "metadata": {},
   "outputs": [],
   "source": []
  },
  {
   "cell_type": "code",
   "execution_count": null,
   "metadata": {},
   "outputs": [],
   "source": []
  },
  {
   "cell_type": "markdown",
   "metadata": {},
   "source": [
    "# Instance Norm"
   ]
  },
  {
   "cell_type": "code",
   "execution_count": 4,
   "metadata": {},
   "outputs": [],
   "source": [
    "import torch\n",
    "import torch.nn as nn"
   ]
  },
  {
   "cell_type": "code",
   "execution_count": 5,
   "metadata": {},
   "outputs": [],
   "source": [
    "eps = 1e-3\n",
    "\n",
    "batch_size = 5\n",
    "input_channels = 2\n",
    "input_length = 30"
   ]
  },
  {
   "cell_type": "code",
   "execution_count": 6,
   "metadata": {},
   "outputs": [],
   "source": [
    "instance_norm = nn.InstanceNorm1d(input_channels, affine=False, eps=eps)\n",
    "\n",
    "input_tensor = torch.randn(batch_size, input_channels, input_length, dtype=torch.float)"
   ]
  },
  {
   "cell_type": "code",
   "execution_count": 7,
   "metadata": {},
   "outputs": [],
   "source": [
    "def custom_instance_norm1d(input_tensor, eps):\n",
    "    \n",
    "    normed_tensor = torch.empty(input_tensor.shape)\n",
    "    \n",
    "    gamma = torch.ones(input_tensor.shape[2])\n",
    "    beta = torch.zeros(input_tensor.shape[2])\n",
    "    \n",
    "    for image in range(input_tensor.shape[0]):\n",
    "        for layer in range(input_tensor.shape[1]):\n",
    "            \n",
    "            current_slice = input_tensor[image][layer]\n",
    "            mean, var = current_slice.reshape(-1).mean(), current_slice.reshape(-1).var(unbiased=False)\n",
    "            \n",
    "            normed_tensor[image][layer] = (current_slice - mean)/torch.sqrt(var + eps) * gamma + beta\n",
    "\n",
    "    return normed_tensor"
   ]
  },
  {
   "cell_type": "code",
   "execution_count": 8,
   "metadata": {},
   "outputs": [
    {
     "name": "stdout",
     "output_type": "stream",
     "text": [
      "True\n"
     ]
    }
   ],
   "source": [
    "norm_output = instance_norm(input_tensor)\n",
    "custom_output = custom_instance_norm1d(input_tensor, eps)\n",
    "print(torch.allclose(norm_output, custom_output) and norm_output.shape == custom_output.shape)"
   ]
  },
  {
   "cell_type": "code",
   "execution_count": null,
   "metadata": {},
   "outputs": [],
   "source": []
  },
  {
   "cell_type": "code",
   "execution_count": null,
   "metadata": {},
   "outputs": [],
   "source": []
  },
  {
   "cell_type": "markdown",
   "metadata": {},
   "source": [
    "# Group Norm"
   ]
  },
  {
   "cell_type": "code",
   "execution_count": 15,
   "metadata": {},
   "outputs": [],
   "source": [
    "import torch\n",
    "import torch.nn as nn"
   ]
  },
  {
   "cell_type": "code",
   "execution_count": 16,
   "metadata": {},
   "outputs": [],
   "source": [
    "channel_count = 6\n",
    "eps = 1e-3\n",
    "batch_size = 20\n",
    "input_size = 2\n",
    "\n",
    "input_tensor = torch.randn(batch_size, channel_count, input_size)"
   ]
  },
  {
   "cell_type": "code",
   "execution_count": 17,
   "metadata": {},
   "outputs": [
    {
     "data": {
      "text/plain": [
       "torch.Size([20, 6, 2])"
      ]
     },
     "execution_count": 17,
     "metadata": {},
     "output_type": "execute_result"
    }
   ],
   "source": [
    "groups = 3\n",
    "group_norm = nn.GroupNorm(groups, channel_count, affine=False)\n",
    "input_tensor.shape"
   ]
  },
  {
   "cell_type": "code",
   "execution_count": 23,
   "metadata": {},
   "outputs": [],
   "source": [
    "def custom_group_norm(input_tensor, groups, eps):\n",
    "    \n",
    "    normed_tensor = torch.empty(input_tensor.shape)\n",
    "    \n",
    "    gamma = torch.ones(input_tensor.shape[1]//groups, input_tensor.shape[2])\n",
    "    beta = torch.zeros(input_tensor.shape[1]//groups, input_tensor.shape[2])\n",
    "    \n",
    "    for layer in range(input_tensor.shape[0]):\n",
    "        \n",
    "        channel = torch.zeros(input_tensor.shape[1], input_tensor.shape[2])\n",
    "        \n",
    "        for sub in range(0, input_tensor.shape[1], input_tensor.shape[1]//groups):\n",
    "            \n",
    "            current_slice = input_tensor[layer][sub:sub+input_tensor.shape[1]//groups]           \n",
    "            mean, var = current_slice.reshape(-1).mean(), current_slice.reshape(-1).var(unbiased=False)\n",
    "            channel[sub:sub + input_tensor.shape[1]//groups] = (current_slice - mean)/torch.sqrt(var + eps) * gamma + beta\n",
    "\n",
    "        normed_tensor[layer] = channel\n",
    "        \n",
    "    return normed_tensor"
   ]
  },
  {
   "cell_type": "code",
   "execution_count": 24,
   "metadata": {},
   "outputs": [
    {
     "name": "stdout",
     "output_type": "stream",
     "text": [
      "True\n"
     ]
    }
   ],
   "source": [
    "all_correct = True\n",
    "for groups in [1, 2, 3, 6]:\n",
    "    group_norm = nn.GroupNorm(groups, channel_count, eps=eps, affine=False)\n",
    "    all_correct &= torch.allclose(group_norm(input_tensor), custom_group_norm(input_tensor, groups, eps), 1e-3)\n",
    "print(all_correct)"
   ]
  },
  {
   "cell_type": "code",
   "execution_count": null,
   "metadata": {},
   "outputs": [],
   "source": []
  },
  {
   "cell_type": "code",
   "execution_count": null,
   "metadata": {},
   "outputs": [],
   "source": []
  },
  {
   "cell_type": "code",
   "execution_count": null,
   "metadata": {},
   "outputs": [],
   "source": []
  },
  {
   "cell_type": "code",
   "execution_count": null,
   "metadata": {},
   "outputs": [],
   "source": []
  },
  {
   "cell_type": "code",
   "execution_count": null,
   "metadata": {},
   "outputs": [],
   "source": []
  },
  {
   "cell_type": "code",
   "execution_count": null,
   "metadata": {},
   "outputs": [],
   "source": []
  },
  {
   "cell_type": "code",
   "execution_count": null,
   "metadata": {},
   "outputs": [],
   "source": []
  }
 ],
 "metadata": {
  "kernelspec": {
   "display_name": "Python 3",
   "language": "python",
   "name": "python3"
  },
  "language_info": {
   "codemirror_mode": {
    "name": "ipython",
    "version": 3
   },
   "file_extension": ".py",
   "mimetype": "text/x-python",
   "name": "python",
   "nbconvert_exporter": "python",
   "pygments_lexer": "ipython3",
   "version": "3.7.6"
  }
 },
 "nbformat": 4,
 "nbformat_minor": 4
}
